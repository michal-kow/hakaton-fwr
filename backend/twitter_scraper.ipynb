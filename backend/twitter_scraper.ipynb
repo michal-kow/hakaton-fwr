{
 "cells": [
  {
   "cell_type": "code",
   "execution_count": 501,
   "id": "bc5e04b5-0533-4f70-8521-60bd08a2f363",
   "metadata": {},
   "outputs": [],
   "source": [
    "import csv\n",
    "import yaml\n",
    "import tweepy\n",
    "import pprint\n",
    "import json\n",
    "from yaml.loader import SafeLoader"
   ]
  },
  {
   "cell_type": "code",
   "execution_count": 625,
   "id": "c450d03c-db7f-4679-9266-39941ec4df3b",
   "metadata": {},
   "outputs": [],
   "source": [
    "class TwitterScraper():\n",
    "    def __init__(self, csv_to_read, yaml_to_read):\n",
    "        self.csv_to_read = csv_to_read\n",
    "        self.yaml_to_read = yaml_to_read\n",
    "        self.wordlist = []\n",
    "        \n",
    "        self.auth_accounts = []\n",
    "        \n",
    "        # for secrets from config\n",
    "        self.cons_key = ''\n",
    "        self.cons_secret = ''\n",
    "        self.acc_token = ''\n",
    "        self.acc_token_secret = ''\n",
    "        \n",
    "        # for twitter auth and client retrieve\n",
    "        self.auth = None\n",
    "        self.client = None\n",
    "        \n",
    "        # for yaml loading\n",
    "        self.yaml_data = {}\n",
    "        \n",
    "        # for tweets retrieve\n",
    "        self.url = \"https://api.twitter.com/2/tweets/search/recent?max_results=20&query=from%3A****&user.fields=profile_image_url%2Curl%2Cusername%2Cname&tweet.fields=created_at&expansions=author_id\"\n",
    "        self.payload={}\n",
    "        self.headers = {\n",
    "        'Authorization': '',\n",
    "            }\n",
    "        self.bearer_token = ''\n",
    "        \n",
    "        # data for storing tweets\n",
    "        self.users_data = {}\n",
    "        self.temp_str = ''\n",
    "        \n",
    "        # date conversion\n",
    "        self.date = ''\n",
    "        self.date_str = ''\n",
    "        \n",
    "        # for sending json \n",
    "        self.send_data = []\n",
    "        \n",
    "        # for filter news\n",
    "        self.filtered_list = []\n",
    "        self.to_json_filtered_list = []\n",
    "    def read_from_csv(self): \n",
    "        with open(self.csv_to_read, 'r') as file:\n",
    "            reader = csv.reader(file) \n",
    "            self.wordlist = [element for row in reader for element in row]\n",
    "    def load_yaml_file(self):\n",
    "        with open(self.yaml_to_read) as f:\n",
    "            self.yaml_data = yaml.load(f, Loader=SafeLoader)\n",
    "    def unpack_yaml(self):\n",
    "        self.cons_key = self.yaml_data['resources']['secrets']['cons_key']\n",
    "        self.cons_secret = self.yaml_data['resources']['secrets']['cons_secret']\n",
    "        self.acc_token = self.yaml_data['resources']['secrets']['acc_token']\n",
    "        self.acc_token_secret = self.yaml_data['resources']['secrets']['acc_token_secret']\n",
    "        self.bearer_token = self.yaml_data['resources']['secrets']['bearer_token']\n",
    "        self.auth_accounts = self.yaml_data['resources']['authorized_account_ids']\n",
    "    def get_twitter_auth(self):\n",
    "        # authenticating to Twitter\n",
    "        try:\n",
    "            self.auth = tweepy.OAuthHandler(self.cons_key, self.cons_secret)\n",
    "            self.auth.set_access_token(self.acc_token, self.acc_token_secret)\n",
    "        except KeyError as kerr:\n",
    "            print(kerr)\n",
    "    def get_twitter_client(self):\n",
    "            self.client = tweepy.API(self.auth, wait_on_rate_limit=True)\n",
    "            return self.client\n",
    "    def get_tweets(self, url):\n",
    "        self.headers['Authorization'] = self.bearer_token\n",
    "        response = requests.request(\"GET\", url, headers=self.headers, data=self.payload)\n",
    "        self.temp_str = response.text\n",
    "    def aggregate_data(self):\n",
    "        for account_name in self.auth_accounts:\n",
    "            temp_string = self.url.split(\"****\", 2)\n",
    "            url  = temp_string[0] + account_name + temp_string[1]\n",
    "            self.get_tweets(url)\n",
    "            user_data = self.temp_str\n",
    "            self.users_data[account_name] = user_data\n",
    "    def filter_alerts(self):\n",
    "        for value in self.users_data.values():\n",
    "            temp_dict = json.loads(value)\n",
    "            self.filtered_list = temp_dict['data']\n",
    "            \n",
    "            temp_dict_list_copy = self.filtered_list.copy()\n",
    "            for tweet_data in temp_dict_list_copy:\n",
    "                i = 0\n",
    "                end_flag = False\n",
    "                for lemma_word in self.wordlist:\n",
    "                    i+=1\n",
    "                    if i == len(self.wordlist):\n",
    "                            end_flag = True   \n",
    "                    if lemma_word.capitalize() in tweet_data['text'] or lemma_word in tweet_data['text']:\n",
    "                        break     \n",
    "                    else:\n",
    "                        if end_flag:\n",
    "                            self.filtered_list.remove(tweet_data)\n",
    "                            post_id = tweet_data['id']\n",
    "                            print(f\"Removed: post with: {post_id} and data: {tweet_data['text']}\")\n",
    "                            break\n",
    "            self.to_json_filtered_list.append(temp_dict)\n",
    "   \n",
    "    def flatten_date(self):\n",
    "        flatten = self.date.split(\"T\", 1)[0]\n",
    "        year = flatten[0:4]\n",
    "        month = flatten[5:7]\n",
    "        day = flatten[8:10]\n",
    "        self.date_str = day + \"/\" + month + \"/\" + year\n",
    "        \n",
    "    \n",
    "    def prepare_json(self):\n",
    "\n",
    "        for temp_dict in self.to_json_filtered_list:\n",
    "            author = temp_dict['includes']['users'][0]['name']\n",
    "            username =  temp_dict['includes']['users'][0]['username']\n",
    "            author_link = \"https://twitter.com/\" + username\n",
    "            avatar = temp_dict['includes']['users'][0]['profile_image_url']\n",
    "\n",
    "            avatar_strip = avatar.split(\"_normal.jpg\", 1)[0]\n",
    "            avatar_strip = avatar_strip + \"_400x400.jpg\"\n",
    "            avatar = avatar_strip\n",
    "\n",
    "            for alert in temp_dict['data']:\n",
    "                content = alert['text']\n",
    "                link = author_link + \"/\" + \"status\" + \"/\" + alert['id']\n",
    "                self.date = alert['created_at']\n",
    "                self.flatten_date()\n",
    "                date_string = self.date_str\n",
    "                temp_json = {\"content\":content, \"content_images\":\"[]\",\n",
    "                           \"author\": author, \"author_link\":author_link, \"username\":username,\n",
    "                          \"link\":link, \"date\":date_string, \"avatar\":avatar}\n",
    "                self.send_data.append(temp_json)\n",
    "                "
   ]
  },
  {
   "cell_type": "code",
   "execution_count": 626,
   "id": "8e1d3011-0669-4ea8-9f0b-897d6766f9a8",
   "metadata": {},
   "outputs": [],
   "source": [
    "twitter_obj = TwitterScraper('wordlist.csv', 'config.yaml')"
   ]
  },
  {
   "cell_type": "code",
   "execution_count": 627,
   "id": "d73a8b16-755a-4fb5-9739-b9525302f440",
   "metadata": {},
   "outputs": [],
   "source": [
    "twitter_obj.read_from_csv()\n",
    "twitter_obj.load_yaml_file()\n",
    "twitter_obj.yaml_data\n",
    "twitter_obj.unpack_yaml()"
   ]
  },
  {
   "cell_type": "code",
   "execution_count": 628,
   "id": "a955547a-ea67-4de6-ba9c-6a8431b1db3f",
   "metadata": {},
   "outputs": [
    {
     "data": {
      "text/plain": [
       "{'ThreatLabsPL': '{\"data\":[{\"id\":\"1538440772885921792\",\"created_at\":\"2022-06-19T08:37:17.000Z\",\"author_id\":\"1278086695498452995\",\"text\":\"Uwaga! Ostrzegamy przed fałszywą stroną banku @BankPekaoSA \\\\n\\\\nAdres fałszywej strony:\\\\nhxxps://pekao-bank[.]io/\\\\n\\\\nNie dajcie się nabrać!\\\\n\\\\n@CERT_Polska @CERT_OPL @CSIRT_KNF https://t.co/foaGSOH1K8\"},{\"id\":\"1536946717077213184\",\"created_at\":\"2022-06-15T05:40:27.000Z\",\"author_id\":\"1278086695498452995\",\"text\":\"Uwaga! Ostrzegamy przed kolejnymi fałszywymi stronami podszywającymi się pod @pkobp #iko \\\\n\\\\nAdresy fałszywych stron:\\\\niko-pkobpp[.]com\\\\njko-pkobpp[.]com\\\\n\\\\nNie dajcie się nabrać!\\\\n\\\\n@CSIRT_KNF\\\\n@CERT_Polska @CERT_OPL https://t.co/EtiOqxgdFI\"}],\"includes\":{\"users\":[{\"id\":\"1278086695498452995\",\"url\":\"\",\"name\":\"Threat Labs\",\"username\":\"ThreatLabsPL\",\"profile_image_url\":\"https://pbs.twimg.com/profile_images/1425045895612145678/kPvQ-Nr3_normal.jpg\"}]},\"meta\":{\"newest_id\":\"1538440772885921792\",\"oldest_id\":\"1536946717077213184\",\"result_count\":2}}',\n",
       " 'CyberDefence24': '{\"data\":[{\"created_at\":\"2022-06-20T17:09:00.000Z\",\"author_id\":\"4876575292\",\"text\":\"Wzrost popytu na prąd może doprowadzić do blackoutów. | @Defence24pl @Energetyka_24 #bitcoin #cryptocurrency #Iran \\\\nhttps://t.co/qvsZjwwXHe\",\"id\":\"1538931936353206272\"},{\"created_at\":\"2022-06-20T15:58:00.000Z\",\"author_id\":\"4876575292\",\"text\":\"Często pośpiech, kliknięcie w podejrzany link lub niesprawdzenie adresu domeny może mieć poważne skutki. | @Defence24pl @CSIRT_KNF #cyberbezpieczeństwo #Polska \\\\nhttps://t.co/kKokudZl2h\",\"id\":\"1538914068370804737\"},{\"created_at\":\"2022-06-20T14:56:00.000Z\",\"author_id\":\"4876575292\",\"text\":\"Z nagrań wynika, że chińscy inżynierowie TikToka mieli dostęp do danych Amerykanów między wrześniem 2021 r. a styczniem 2022 r. | @Defence24pl @GosiaFraser #cyberbezpieczeństwo #Chiny #TikTok #USA\\\\nhttps://t.co/MHamxi5Vd3\",\"id\":\"1538898465891180544\"},{\"created_at\":\"2022-06-20T13:54:19.000Z\",\"author_id\":\"4876575292\",\"text\":\"Istnieje ryzyko utraty kontroli nad operacją, a tym samym powstania niezamierzonych skutków. Jakich? | @Defence24pl @szymonpalcze #cyberbezpieczeństwo #Ukraina #Rosja \\\\nhttps://t.co/Po69nBBD6m\",\"id\":\"1538882942210121728\"},{\"created_at\":\"2022-06-20T11:58:30.000Z\",\"author_id\":\"4876575292\",\"text\":\"Incydent ma dotyczyć łącznie 14 kont, w tym liderów Zielonych. | @Defence24pl @Energetyka_24 #cyberbezpieczeństwo #Niemcy \\\\nhttps://t.co/D8Uuee06Tt\",\"id\":\"1538853795718959109\"},{\"created_at\":\"2022-06-20T10:12:59.000Z\",\"author_id\":\"4876575292\",\"text\":\"Scenariusz z przeszłości miał się już nigdy nie powtórzyć. Dla wielu państw oznacza to weryfikację kroków obronnych. | @Defence24pl @szymonpalcze #technologie #Ukraina #Rosja #Polska \\\\nhttps://t.co/89GayBP5Tz\",\"id\":\"1538827241391636487\"},{\"created_at\":\"2022-06-20T09:22:36.000Z\",\"author_id\":\"4876575292\",\"text\":\"Najwięcej problemów młodzi mają z narzędziami biurowymi (np. Excel) i platformami do współpracy. A co z cyberbezpieczeństwem? | @Defence24pl #cyfryzacja #cyberbezpieczeństwo #Polska \\\\nhttps://t.co/2dIVn686A2\",\"id\":\"1538814563004579843\"},{\"created_at\":\"2022-06-20T08:25:12.000Z\",\"author_id\":\"4876575292\",\"text\":\"Nowe zasady będą obowiązywały od 15 sierpnia. | @Defence24pl @Google #reklamy \\\\nhttps://t.co/Ve7pFidO0s\",\"id\":\"1538800118417301504\"},{\"created_at\":\"2022-06-20T08:02:37.000Z\",\"author_id\":\"4876575292\",\"text\":\"RT @Energetyka_24: Rosja odzyskała pozycję pierwszego dostawcy ropy do tego państwa po 19 miesiącach przerwy. \\\\n\\\\nhttps://t.co/fmJfwg48YI\",\"id\":\"1538794433474441217\"},{\"created_at\":\"2022-06-20T07:29:20.000Z\",\"author_id\":\"4876575292\",\"text\":\"To pierwszy w historii tej firmy w USA związek zawodowy. | @Defence24pl #Apple \\\\nhttps://t.co/JaVDmn9NXt\",\"id\":\"1538786058694971393\"},{\"created_at\":\"2022-06-20T07:17:01.000Z\",\"author_id\":\"4876575292\",\"text\":\"RT @Defence24pl: Jakimi siłami zbrojnymi dysponuje obecnie #Białoruś, główny choć nieobecny na froncie sojusznik Rosji?\\\\n#WojnaWUkrainie #Uk…\",\"id\":\"1538782958949212161\"},{\"created_at\":\"2022-06-19T18:13:00.000Z\",\"author_id\":\"4876575292\",\"text\":\"O jakich karach mówi projekt? | @Defence24pl @GosiaFraser @jciesz @CyfryzacjaKPRM @UKE_GOV_PL #cyberbezpieczeństwo #spoofing #Polska\\\\nhttps://t.co/AE8qd24m80\",\"id\":\"1538585654459785217\"},{\"created_at\":\"2022-06-19T16:04:00.000Z\",\"author_id\":\"4876575292\",\"text\":\"Niemcy chcą być gotowe na cyfrową walkę. | @Defence24pl @szymonpalcze #cyberbezpieczeństwo #Niemcy\\\\nhttps://t.co/Xlffj4Guni\",\"id\":\"1538553191016476672\"},{\"created_at\":\"2022-06-19T13:59:00.000Z\",\"author_id\":\"4876575292\",\"text\":\"Indywidualny monitoring sygnału pozwala na śledzenie telefonu nawet z odległości kilkuset metrów. | @Defence24pl @GosiaFraser #technologie #prywatnoś #Bluetooth \\\\nhttps://t.co/FVtJV8ndzz\",\"id\":\"1538521733619077120\"},{\"created_at\":\"2022-06-19T12:04:00.000Z\",\"author_id\":\"4876575292\",\"text\":\"„Od mniej więcej 2020 roku widać regularny wzrost zainteresowania rynkiem polskim przez Ukraińców”. | @Defence24pl @BochynskaNikola #cyfryzacja #IT #praca #Polska #Ukraina #Białoruś #Rosja \\\\nhttps://t.co/3VyIw0P4pz\",\"id\":\"1538492793588330498\"},{\"created_at\":\"2022-06-19T10:03:00.000Z\",\"author_id\":\"4876575292\",\"text\":\"Dzieci, po cichu, stają się najdroższym i najbardziej interesującym „targetem”. | @Defence24pl @GosiaFraser #prywatność #dzieciwsieci #aplikacje \\\\nhttps://t.co/IRY5E07tGq\",\"id\":\"1538462342320640001\"},{\"created_at\":\"2022-06-19T08:02:00.000Z\",\"author_id\":\"4876575292\",\"text\":\"Ekspresy zbierają dane o użytkownikach spoza Chin, a te następnie trafiają do Państwie Środka. | @Defence24pl @szymonpalcze @InfoSecurity_24 #cyberbezpieczeństwo #Chiny \\\\nhttps://t.co/TczFui71wY\",\"id\":\"1538431891552055296\"},{\"created_at\":\"2022-06-18T18:11:00.000Z\",\"author_id\":\"4876575292\",\"text\":\"Co się dzieje z najpopularniejszą cyfrową walutą? | @Defence24pl @GosiaFraser #bitcoin #cryptocurrecy\\\\nhttps://t.co/A9TGbeGjML\",\"id\":\"1538222763298541568\"},{\"created_at\":\"2022-06-18T16:02:00.000Z\",\"author_id\":\"4876575292\",\"text\":\"Waszyngton da zielone światło? | @Defence24pl @szymonpalcze @L3HarrisTech #Pegasus #USA #Izrael\\\\nhttps://t.co/mwe02C6pfb\",\"id\":\"1538190300111425536\"},{\"created_at\":\"2022-06-18T13:58:00.000Z\",\"author_id\":\"4876575292\",\"text\":\"Nie korzystasz teraz z Bluetooth? Lepiej go wyłącz. Wyjaśniamy dlaczego. | @Defence24pl @GosiaFraser #technologie #prywatnoś #Bluetooth \\\\nhttps://t.co/FVtJV8EOY9\",\"id\":\"1538159094657339392\"}],\"includes\":{\"users\":[{\"username\":\"CyberDefence24\",\"profile_image_url\":\"https://pbs.twimg.com/profile_images/1503338564578328576/PsPIzDQD_normal.jpg\",\"url\":\"https://t.co/wiwatN5iBA\",\"id\":\"4876575292\",\"name\":\"CyberDefence24\"}]},\"meta\":{\"newest_id\":\"1538931936353206272\",\"oldest_id\":\"1538159094657339392\",\"result_count\":20,\"next_token\":\"b26v89c19zqg8o3fpyznxldy34659a3orzrkd50xny6wt\"}}'}"
      ]
     },
     "execution_count": 628,
     "metadata": {},
     "output_type": "execute_result"
    }
   ],
   "source": [
    "twitter_obj.aggregate_data()\n",
    "twitter_obj.users_data"
   ]
  },
  {
   "cell_type": "code",
   "execution_count": 629,
   "id": "1d9dab92-025f-4760-b948-bf5244d0d532",
   "metadata": {},
   "outputs": [
    {
     "name": "stdout",
     "output_type": "stream",
     "text": [
      "Removed: post with: 1538931936353206272 and data: Wzrost popytu na prąd może doprowadzić do blackoutów. | @Defence24pl @Energetyka_24 #bitcoin #cryptocurrency #Iran \n",
      "https://t.co/qvsZjwwXHe\n",
      "Removed: post with: 1538898465891180544 and data: Z nagrań wynika, że chińscy inżynierowie TikToka mieli dostęp do danych Amerykanów między wrześniem 2021 r. a styczniem 2022 r. | @Defence24pl @GosiaFraser #cyberbezpieczeństwo #Chiny #TikTok #USA\n",
      "https://t.co/MHamxi5Vd3\n",
      "Removed: post with: 1538882942210121728 and data: Istnieje ryzyko utraty kontroli nad operacją, a tym samym powstania niezamierzonych skutków. Jakich? | @Defence24pl @szymonpalcze #cyberbezpieczeństwo #Ukraina #Rosja \n",
      "https://t.co/Po69nBBD6m\n",
      "Removed: post with: 1538853795718959109 and data: Incydent ma dotyczyć łącznie 14 kont, w tym liderów Zielonych. | @Defence24pl @Energetyka_24 #cyberbezpieczeństwo #Niemcy \n",
      "https://t.co/D8Uuee06Tt\n",
      "Removed: post with: 1538827241391636487 and data: Scenariusz z przeszłości miał się już nigdy nie powtórzyć. Dla wielu państw oznacza to weryfikację kroków obronnych. | @Defence24pl @szymonpalcze #technologie #Ukraina #Rosja #Polska \n",
      "https://t.co/89GayBP5Tz\n",
      "Removed: post with: 1538814563004579843 and data: Najwięcej problemów młodzi mają z narzędziami biurowymi (np. Excel) i platformami do współpracy. A co z cyberbezpieczeństwem? | @Defence24pl #cyfryzacja #cyberbezpieczeństwo #Polska \n",
      "https://t.co/2dIVn686A2\n",
      "Removed: post with: 1538800118417301504 and data: Nowe zasady będą obowiązywały od 15 sierpnia. | @Defence24pl @Google #reklamy \n",
      "https://t.co/Ve7pFidO0s\n",
      "Removed: post with: 1538794433474441217 and data: RT @Energetyka_24: Rosja odzyskała pozycję pierwszego dostawcy ropy do tego państwa po 19 miesiącach przerwy. \n",
      "\n",
      "https://t.co/fmJfwg48YI\n",
      "Removed: post with: 1538786058694971393 and data: To pierwszy w historii tej firmy w USA związek zawodowy. | @Defence24pl #Apple \n",
      "https://t.co/JaVDmn9NXt\n",
      "Removed: post with: 1538782958949212161 and data: RT @Defence24pl: Jakimi siłami zbrojnymi dysponuje obecnie #Białoruś, główny choć nieobecny na froncie sojusznik Rosji?\n",
      "#WojnaWUkrainie #Uk…\n",
      "Removed: post with: 1538585654459785217 and data: O jakich karach mówi projekt? | @Defence24pl @GosiaFraser @jciesz @CyfryzacjaKPRM @UKE_GOV_PL #cyberbezpieczeństwo #spoofing #Polska\n",
      "https://t.co/AE8qd24m80\n",
      "Removed: post with: 1538553191016476672 and data: Niemcy chcą być gotowe na cyfrową walkę. | @Defence24pl @szymonpalcze #cyberbezpieczeństwo #Niemcy\n",
      "https://t.co/Xlffj4Guni\n",
      "Removed: post with: 1538521733619077120 and data: Indywidualny monitoring sygnału pozwala na śledzenie telefonu nawet z odległości kilkuset metrów. | @Defence24pl @GosiaFraser #technologie #prywatnoś #Bluetooth \n",
      "https://t.co/FVtJV8ndzz\n",
      "Removed: post with: 1538492793588330498 and data: „Od mniej więcej 2020 roku widać regularny wzrost zainteresowania rynkiem polskim przez Ukraińców”. | @Defence24pl @BochynskaNikola #cyfryzacja #IT #praca #Polska #Ukraina #Białoruś #Rosja \n",
      "https://t.co/3VyIw0P4pz\n",
      "Removed: post with: 1538462342320640001 and data: Dzieci, po cichu, stają się najdroższym i najbardziej interesującym „targetem”. | @Defence24pl @GosiaFraser #prywatność #dzieciwsieci #aplikacje \n",
      "https://t.co/IRY5E07tGq\n",
      "Removed: post with: 1538431891552055296 and data: Ekspresy zbierają dane o użytkownikach spoza Chin, a te następnie trafiają do Państwie Środka. | @Defence24pl @szymonpalcze @InfoSecurity_24 #cyberbezpieczeństwo #Chiny \n",
      "https://t.co/TczFui71wY\n",
      "Removed: post with: 1538222763298541568 and data: Co się dzieje z najpopularniejszą cyfrową walutą? | @Defence24pl @GosiaFraser #bitcoin #cryptocurrecy\n",
      "https://t.co/A9TGbeGjML\n",
      "Removed: post with: 1538190300111425536 and data: Waszyngton da zielone światło? | @Defence24pl @szymonpalcze @L3HarrisTech #Pegasus #USA #Izrael\n",
      "https://t.co/mwe02C6pfb\n",
      "Removed: post with: 1538159094657339392 and data: Nie korzystasz teraz z Bluetooth? Lepiej go wyłącz. Wyjaśniamy dlaczego. | @Defence24pl @GosiaFraser #technologie #prywatnoś #Bluetooth \n",
      "https://t.co/FVtJV8EOY9\n"
     ]
    }
   ],
   "source": [
    "twitter_obj.filter_alerts()"
   ]
  },
  {
   "cell_type": "code",
   "execution_count": 630,
   "id": "91f663c8-d6f9-45de-8635-b773cc137321",
   "metadata": {},
   "outputs": [
    {
     "data": {
      "text/plain": [
       "[{'data': [{'id': '1538440772885921792',\n",
       "    'created_at': '2022-06-19T08:37:17.000Z',\n",
       "    'author_id': '1278086695498452995',\n",
       "    'text': 'Uwaga! Ostrzegamy przed fałszywą stroną banku @BankPekaoSA \\n\\nAdres fałszywej strony:\\nhxxps://pekao-bank[.]io/\\n\\nNie dajcie się nabrać!\\n\\n@CERT_Polska @CERT_OPL @CSIRT_KNF https://t.co/foaGSOH1K8'},\n",
       "   {'id': '1536946717077213184',\n",
       "    'created_at': '2022-06-15T05:40:27.000Z',\n",
       "    'author_id': '1278086695498452995',\n",
       "    'text': 'Uwaga! Ostrzegamy przed kolejnymi fałszywymi stronami podszywającymi się pod @pkobp #iko \\n\\nAdresy fałszywych stron:\\niko-pkobpp[.]com\\njko-pkobpp[.]com\\n\\nNie dajcie się nabrać!\\n\\n@CSIRT_KNF\\n@CERT_Polska @CERT_OPL https://t.co/EtiOqxgdFI'}],\n",
       "  'includes': {'users': [{'id': '1278086695498452995',\n",
       "     'url': '',\n",
       "     'name': 'Threat Labs',\n",
       "     'username': 'ThreatLabsPL',\n",
       "     'profile_image_url': 'https://pbs.twimg.com/profile_images/1425045895612145678/kPvQ-Nr3_normal.jpg'}]},\n",
       "  'meta': {'newest_id': '1538440772885921792',\n",
       "   'oldest_id': '1536946717077213184',\n",
       "   'result_count': 2}},\n",
       " {'data': [{'created_at': '2022-06-20T15:58:00.000Z',\n",
       "    'author_id': '4876575292',\n",
       "    'text': 'Często pośpiech, kliknięcie w podejrzany link lub niesprawdzenie adresu domeny może mieć poważne skutki. | @Defence24pl @CSIRT_KNF #cyberbezpieczeństwo #Polska \\nhttps://t.co/kKokudZl2h',\n",
       "    'id': '1538914068370804737'}],\n",
       "  'includes': {'users': [{'username': 'CyberDefence24',\n",
       "     'profile_image_url': 'https://pbs.twimg.com/profile_images/1503338564578328576/PsPIzDQD_normal.jpg',\n",
       "     'url': 'https://t.co/wiwatN5iBA',\n",
       "     'id': '4876575292',\n",
       "     'name': 'CyberDefence24'}]},\n",
       "  'meta': {'newest_id': '1538931936353206272',\n",
       "   'oldest_id': '1538159094657339392',\n",
       "   'result_count': 20,\n",
       "   'next_token': 'b26v89c19zqg8o3fpyznxldy34659a3orzrkd50xny6wt'}}]"
      ]
     },
     "execution_count": 630,
     "metadata": {},
     "output_type": "execute_result"
    }
   ],
   "source": [
    "twitter_obj.to_json_filtered_list"
   ]
  },
  {
   "cell_type": "code",
   "execution_count": 631,
   "id": "103ff3d8-3b38-4a93-ad32-35221f3862c0",
   "metadata": {},
   "outputs": [],
   "source": [
    "twitter_obj.prepare_json()\n",
    "payload = twitter_obj.send_data"
   ]
  },
  {
   "cell_type": "code",
   "execution_count": 632,
   "id": "8342c0ae-0e01-4162-99de-de18ccc2422e",
   "metadata": {},
   "outputs": [
    {
     "data": {
      "text/plain": [
       "[{'content': 'Uwaga! Ostrzegamy przed fałszywą stroną banku @BankPekaoSA \\n\\nAdres fałszywej strony:\\nhxxps://pekao-bank[.]io/\\n\\nNie dajcie się nabrać!\\n\\n@CERT_Polska @CERT_OPL @CSIRT_KNF https://t.co/foaGSOH1K8',\n",
       "  'content_images': '[]',\n",
       "  'author': 'Threat Labs',\n",
       "  'author_link': 'https://twitter.com/ThreatLabsPL',\n",
       "  'username': 'ThreatLabsPL',\n",
       "  'link': 'https://twitter.com/ThreatLabsPL/status/1538440772885921792',\n",
       "  'date': '19/06/2022',\n",
       "  'avatar': 'https://pbs.twimg.com/profile_images/1425045895612145678/kPvQ-Nr3_400x400.jpg'},\n",
       " {'content': 'Uwaga! Ostrzegamy przed kolejnymi fałszywymi stronami podszywającymi się pod @pkobp #iko \\n\\nAdresy fałszywych stron:\\niko-pkobpp[.]com\\njko-pkobpp[.]com\\n\\nNie dajcie się nabrać!\\n\\n@CSIRT_KNF\\n@CERT_Polska @CERT_OPL https://t.co/EtiOqxgdFI',\n",
       "  'content_images': '[]',\n",
       "  'author': 'Threat Labs',\n",
       "  'author_link': 'https://twitter.com/ThreatLabsPL',\n",
       "  'username': 'ThreatLabsPL',\n",
       "  'link': 'https://twitter.com/ThreatLabsPL/status/1536946717077213184',\n",
       "  'date': '15/06/2022',\n",
       "  'avatar': 'https://pbs.twimg.com/profile_images/1425045895612145678/kPvQ-Nr3_400x400.jpg'},\n",
       " {'content': 'Często pośpiech, kliknięcie w podejrzany link lub niesprawdzenie adresu domeny może mieć poważne skutki. | @Defence24pl @CSIRT_KNF #cyberbezpieczeństwo #Polska \\nhttps://t.co/kKokudZl2h',\n",
       "  'content_images': '[]',\n",
       "  'author': 'CyberDefence24',\n",
       "  'author_link': 'https://twitter.com/CyberDefence24',\n",
       "  'username': 'CyberDefence24',\n",
       "  'link': 'https://twitter.com/CyberDefence24/status/1538914068370804737',\n",
       "  'date': '20/06/2022',\n",
       "  'avatar': 'https://pbs.twimg.com/profile_images/1503338564578328576/PsPIzDQD_400x400.jpg'}]"
      ]
     },
     "execution_count": 632,
     "metadata": {},
     "output_type": "execute_result"
    }
   ],
   "source": [
    "payload"
   ]
  },
  {
   "cell_type": "code",
   "execution_count": null,
   "id": "54a273c7-5b77-4045-b8c5-34b6d54c23ac",
   "metadata": {},
   "outputs": [],
   "source": []
  }
 ],
 "metadata": {
  "kernelspec": {
   "display_name": "Python 3 (ipykernel)",
   "language": "python",
   "name": "python3"
  },
  "language_info": {
   "codemirror_mode": {
    "name": "ipython",
    "version": 3
   },
   "file_extension": ".py",
   "mimetype": "text/x-python",
   "name": "python",
   "nbconvert_exporter": "python",
   "pygments_lexer": "ipython3",
   "version": "3.10.2"
  }
 },
 "nbformat": 4,
 "nbformat_minor": 5
}
